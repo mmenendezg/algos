{
 "cells": [
  {
   "cell_type": "markdown",
   "metadata": {},
   "source": [
    "# Array Data Structure"
   ]
  },
  {
   "cell_type": "markdown",
   "metadata": {},
   "source": [
    "## Setup"
   ]
  },
  {
   "cell_type": "code",
   "execution_count": 72,
   "metadata": {},
   "outputs": [],
   "source": [
    "from collections import List\n",
    "from algorithm import sum"
   ]
  },
  {
   "cell_type": "markdown",
   "metadata": {},
   "source": [
    "## 1. "
   ]
  },
  {
   "cell_type": "code",
   "execution_count": 29,
   "metadata": {},
   "outputs": [],
   "source": [
    "var expenses = List[Float32](2200, 2350, 2600, 2190)\n",
    "var months = List[String](\"January\", \"February\", \"March\", \"April\", \"May\")\n",
    "\n",
    "\n",
    "fn get_expenses(\n",
    "    month: String, expenses: List[Float32], months: List[String]\n",
    ") raises -> Float32:\n",
    "    if month not in months:\n",
    "        print(\"Invalid month\")\n",
    "    var id = months.index(month)\n",
    "    return expenses[id]\n"
   ]
  },
  {
   "cell_type": "code",
   "execution_count": 34,
   "metadata": {},
   "outputs": [
    {
     "name": "stdout",
     "output_type": "stream",
     "text": [
      "The difference is $150.0\n"
     ]
    }
   ],
   "source": [
    "var diff: Float32 = get_expenses(\"February\", expenses, months) - get_expenses(\n",
    "    \"January\", expenses, months\n",
    ")\n",
    "print(String(\"The difference is ${0}\").format(diff))\n"
   ]
  },
  {
   "cell_type": "code",
   "execution_count": 40,
   "metadata": {},
   "outputs": [
    {
     "name": "stdout",
     "output_type": "stream",
     "text": [
      "The total expense in first quarter is: $7150.0\n"
     ]
    }
   ],
   "source": [
    "# 2. Find out your total expense in first quarter (first three months) of the year.\n",
    "var total: Float32 = 0\n",
    "for i in range(3):\n",
    "    total += expenses[i]\n",
    "print(String(\"The total expense in first quarter is: ${0}\").format(total))\n"
   ]
  },
  {
   "cell_type": "code",
   "execution_count": 49,
   "metadata": {},
   "outputs": [],
   "source": [
    "# 3. Find out if you spent exactly 2000 dollars in any monthv\n",
    "var amount: Float32 = 2000\n",
    "var counter: Int = 0\n",
    "var message: String = \"You didn't spend exactly 2000 dollars in any month\"\n",
    "for val in expenses:\n",
    "    if amount == val[]:\n",
    "        var expense_month = months[counter]\n",
    "        message = String(\"You spent exactly 2000 dollars in {0}\").format(\n",
    "            expense_month\n",
    "        )\n",
    "    counter += 1\n"
   ]
  },
  {
   "cell_type": "code",
   "execution_count": 50,
   "metadata": {},
   "outputs": [],
   "source": [
    "# 4. June month just finished and your expense is 1980 dollar. Add this item to our monthly expense list\n",
    "expenses.append(1980)\n",
    "months.append(\"June\")\n"
   ]
  },
  {
   "cell_type": "code",
   "execution_count": 51,
   "metadata": {},
   "outputs": [
    {
     "name": "stdout",
     "output_type": "stream",
     "text": [
      "Previous expenses in April: $2190.0\n",
      "Adjusted expenses in April: $1990.0\n"
     ]
    }
   ],
   "source": [
    "# 5. You returned an item that you bought in a month of April and got a refund\n",
    "# of 200$. Make a correction to your monthly expense list based on this\n",
    "print(String(\"Previous expenses in April: ${0}\").format(expenses[3]))\n",
    "expenses[3] -= 200\n",
    "print(String(\"Adjusted expenses in April: ${0}\").format(expenses[3]))\n"
   ]
  },
  {
   "cell_type": "markdown",
   "metadata": {},
   "source": [
    "## 2."
   ]
  },
  {
   "cell_type": "code",
   "execution_count": 65,
   "metadata": {},
   "outputs": [],
   "source": [
    "var heroes = List[String](\n",
    "    \"spider man\", \"thor\", \"hulk\", \"iron man\", \"captain america\"\n",
    ")\n"
   ]
  },
  {
   "cell_type": "code",
   "execution_count": 66,
   "metadata": {},
   "outputs": [
    {
     "name": "stdout",
     "output_type": "stream",
     "text": [
      "The length of the list is 5\n"
     ]
    }
   ],
   "source": [
    "# 1. Length of the list\n",
    "print(String(\"The length of the list is {0}\").format(len(heroes)))\n"
   ]
  },
  {
   "cell_type": "code",
   "execution_count": 67,
   "metadata": {},
   "outputs": [
    {
     "name": "stdout",
     "output_type": "stream",
     "text": [
      "['spider man', 'thor', 'hulk', 'iron man', 'captain america', 'black panther']\n"
     ]
    }
   ],
   "source": [
    "# 2. Add 'black panther' at the end of this list\n",
    "heroes.append(\"black panther\")\n",
    "print(heroes.__str__())\n"
   ]
  },
  {
   "cell_type": "code",
   "execution_count": 68,
   "metadata": {},
   "outputs": [
    {
     "name": "stdout",
     "output_type": "stream",
     "text": [
      "['spider man', 'thor', 'hulk', 'black panther', 'iron man', 'captain america']\n"
     ]
    }
   ],
   "source": [
    "# 3. You realize that you need to add 'black panther' after 'hulk',\n",
    "# so remove it from the list first and then add it after 'hulk'\n",
    "_ = heroes.pop(heroes.index(\"black panther\"))\n",
    "heroes.insert(heroes.index(\"hulk\") + 1, \"black panther\")\n",
    "print(heroes.__str__())\n"
   ]
  },
  {
   "cell_type": "code",
   "execution_count": 69,
   "metadata": {},
   "outputs": [
    {
     "name": "stdout",
     "output_type": "stream",
     "text": [
      "['spider man', 'doctor Strange', 'black panther', 'iron man', 'captain america']\n"
     ]
    }
   ],
   "source": [
    "_ = heroes.pop(1)\n",
    "_ = heroes.pop(1)\n",
    "heroes.insert(1, \"doctor Strange\")\n",
    "print(heroes.__str__())\n"
   ]
  },
  {
   "cell_type": "code",
   "execution_count": 71,
   "metadata": {},
   "outputs": [
    {
     "name": "stdout",
     "output_type": "stream",
     "text": [
      "['black panther', 'captain america', 'doctor Strange', 'iron man', 'spider man']\n"
     ]
    }
   ],
   "source": [
    "# 5. Sort the heros list in alphabetical order \n",
    "sort(heroes)\n",
    "print(heroes.__str__())"
   ]
  },
  {
   "cell_type": "markdown",
   "metadata": {},
   "source": [
    "## 3."
   ]
  },
  {
   "cell_type": "code",
   "execution_count": null,
   "metadata": {},
   "outputs": [],
   "source": [
    "fn create_odds_list(max_val: Int) -> List[Int]:\n",
    "    var list_odds = List[Int]()\n",
    "    for i in range(1, max_val + 1, 2):\n",
    "        list_odds.append(i)\n",
    "    return list_odds\n"
   ]
  },
  {
   "cell_type": "code",
   "execution_count": 14,
   "metadata": {},
   "outputs": [
    {
     "name": "stdout",
     "output_type": "stream",
     "text": [
      "[1, 3, 5, 7, 9, 11, 13, 15, 17, 19, 21, 23, 25, 27, 29, 31, 33, 35, 37, 39, 41, 43, 45, 47, 49, 51, 53, 55, 57]\n"
     ]
    }
   ],
   "source": [
    "var max_val = 58\n",
    "var list_odds: List[Int] = create_odds_list(max_val)\n",
    "print(list_odds.__str__())"
   ]
  }
 ],
 "metadata": {
  "kernelspec": {
   "display_name": "MAX (Conda ENV Mojo kernel)",
   "language": "mojo",
   "name": "mojo"
  },
  "language_info": {
   "codemirror_mode": {
    "name": "mojo"
   },
   "file_extension": ".mojo",
   "mimetype": "text/x-mojo",
   "name": "mojo"
  }
 },
 "nbformat": 4,
 "nbformat_minor": 2
}
