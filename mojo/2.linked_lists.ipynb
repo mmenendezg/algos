{
 "cells": [
  {
   "cell_type": "markdown",
   "metadata": {},
   "source": [
    "# Setup"
   ]
  },
  {
   "cell_type": "code",
   "execution_count": 12,
   "metadata": {},
   "outputs": [],
   "source": [
    "from collections import Optional\n",
    "from memory.arc import ArcPointer\n",
    "from testing import assert_true\n"
   ]
  },
  {
   "cell_type": "markdown",
   "metadata": {},
   "source": [
    "# Linked List"
   ]
  },
  {
   "cell_type": "code",
   "execution_count": 13,
   "metadata": {},
   "outputs": [],
   "source": [
    "trait NType(\n",
    "    CollectionElement,\n",
    "    RepresentableCollectionElement,\n",
    "    Writable,\n",
    "    Stringable,\n",
    "):\n",
    "    pass\n"
   ]
  },
  {
   "cell_type": "code",
   "execution_count": 27,
   "metadata": {},
   "outputs": [],
   "source": [
    "@value\n",
    "struct Node[T: NType](Writable):\n",
    "    var value: Optional[T]\n",
    "    var next: ArcPointer[Optional[Self]]\n",
    "    var prev: ArcPointer[Optional[Self]]\n",
    "\n",
    "    fn __init__(out self):\n",
    "        self.value = Optional[T]()\n",
    "        self.next = ArcPointer(Optional[Self]())\n",
    "        self.prev = ArcPointer(Optional[Self]())\n",
    "\n",
    "    fn __init__(out self, value: T):\n",
    "        self = Self()\n",
    "        self.value = Optional(value)\n",
    "\n",
    "    fn __init__(out self, value: T, next_node: Self, prev_node: Self):\n",
    "        self = Self()\n",
    "        self.value = Optional(value)\n",
    "        self.append(next_node)\n",
    "        self.prepend(prev_node)\n",
    "\n",
    "    fn __setitem__(mut self, value: T):\n",
    "        self.value = Optional(value)\n",
    "\n",
    "    fn __getitem__(self) -> T:\n",
    "        if not self.value:\n",
    "            return Optional[T]().value()\n",
    "        else:\n",
    "            return self.value.value()\n",
    "\n",
    "    fn __getitem__(self, node: String) -> Self:\n",
    "        if node == \"next\" and self.next[]:\n",
    "            return self.next[].value()\n",
    "        elif node == \"prev\" and self.prev[]:\n",
    "            return self.prev[].value()\n",
    "        else:\n",
    "            return Self()\n",
    "\n",
    "    fn __bool__(self) -> Bool:\n",
    "        if self.value:\n",
    "            return True\n",
    "        else:\n",
    "            return False\n",
    "\n",
    "    fn append(mut self, owned next_node: Self):\n",
    "        var ptr = ArcPointer(Optional(next_node^))\n",
    "        self.next = ptr\n",
    "        self.next[].value().prev = ArcPointer(Optional(self))\n",
    "\n",
    "    fn prepend(mut self, owned prev_node: Self):\n",
    "        var ptr = ArcPointer(Optional(prev_node^))\n",
    "        self.prev = ptr\n",
    "        self.prev[].value().next = ArcPointer(Optional(self))\n",
    "\n",
    "    fn write_to[W: Writer](self, mut writer: W):\n",
    "        try:\n",
    "            var value = self.value.value().__str__()\n",
    "            var output = String(\"\")\n",
    "            output += \"value: {0}\\n\".format(value)\n",
    "            if self.prev[]:\n",
    "                output += \"\\tprev: {0}\\n\".format(\n",
    "                    self.prev[].value()[].__str__()\n",
    "                )\n",
    "            if self.next[]:\n",
    "                output += \"\\tnext: {0}\\n\".format(\n",
    "                    self.next[].value()[].__str__()\n",
    "                )\n",
    "            writer.write(output)\n",
    "        except:\n",
    "            writer.write(\"Null Node\")\n"
   ]
  },
  {
   "cell_type": "code",
   "execution_count": 7,
   "metadata": {},
   "outputs": [],
   "source": [
    "@value\n",
    "struct LinkedList[T: NType]:\n",
    "    var head: Optional[ArcPointer[Node[T]]]\n",
    "    var tail: Optional[ArcPointer[Node[T]]]\n",
    "    var size: Int\n",
    "\n",
    "    fn __init__(out self):\n",
    "        self.head = Optional[ArcPointer[Node[T]]]()\n",
    "        self.tail = Optional[ArcPointer[Node[T]]]()\n",
    "        self.size = 0\n",
    "\n",
    "    fn __len__(self) -> Int:\n",
    "        return self.size\n",
    "\n",
    "    fn __getitem__(self, node: String) -> Node[T]:\n",
    "        var output = Node[T]()\n",
    "        if node == \"head\" and self.head:\n",
    "            output = self.head.value()[]\n",
    "        if node == \"tail\" and self.tail:\n",
    "            output = self.tail.value()[]\n",
    "        return output\n",
    "\n",
    "    fn prepend(mut self, owned node: Node[T]):\n",
    "        if not self.head:\n",
    "            self.head = ArcPointer(node^)\n",
    "        elif not self.tail:\n",
    "            self.head.value()[].prepend(node)\n",
    "            self.tail = self.head\n",
    "            self.head = ArcPointer(node^)\n",
    "        else:\n",
    "            self.head.value()[].prepend(node)\n",
    "            self.head = ArcPointer(node^)\n",
    "        self.size += 1\n",
    "\n",
    "    fn append(mut self, owned node: Node[T]):\n",
    "        if not self.head:\n",
    "            self.head = ArcPointer(node^)\n",
    "        elif not self.tail:\n",
    "            self.tail = ArcPointer(node^)\n",
    "            self.head.value()[].append(self.tail.value()[])\n",
    "        else:\n",
    "            self.tail.value()[].append(node)\n",
    "            self.tail = ArcPointer(node^)\n",
    "        self.size += 1\n"
   ]
  },
  {
   "cell_type": "code",
   "execution_count": 8,
   "metadata": {},
   "outputs": [
    {
     "name": "stdout",
     "output_type": "stream",
     "text": [
      "value: 0\n",
      "\tnext: 1\n",
      "\n",
      "value: 1\n",
      "\tprev: 0\n",
      "\n"
     ]
    }
   ],
   "source": [
    "var ll = LinkedList[Int]()\n",
    "ll.append(Node(0))\n",
    "ll.append(Node(1))\n",
    "ll.append(Node(2))\n",
    "ll.append(Node(3))\n",
    "ll.append(Node(4))\n",
    "ll.append(Node(5))\n",
    "\n",
    "var node = ll[\"head\"]\n",
    "while node:\n",
    "    print(node)\n",
    "    node = node[\"next\"]\n"
   ]
  }
 ],
 "metadata": {
  "kernelspec": {
   "display_name": "MAX (Conda ENV Mojo kernel)",
   "language": "mojo",
   "name": "mojo"
  },
  "language_info": {
   "codemirror_mode": {
    "name": "mojo"
   },
   "file_extension": ".mojo",
   "mimetype": "text/x-mojo",
   "name": "mojo"
  }
 },
 "nbformat": 4,
 "nbformat_minor": 2
}
