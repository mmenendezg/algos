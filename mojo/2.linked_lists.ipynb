{
 "cells": [
  {
   "cell_type": "markdown",
   "metadata": {},
   "source": [
    "# Setup"
   ]
  },
  {
   "cell_type": "code",
   "execution_count": 1,
   "metadata": {},
   "outputs": [],
   "source": [
    "from collections import Optional\n",
    "from memory.arc import ArcPointer\n",
    "from testing import assert_true\n",
    "from algos import Node\n"
   ]
  },
  {
   "cell_type": "markdown",
   "metadata": {},
   "source": [
    "# Linked List"
   ]
  },
  {
   "cell_type": "code",
   "execution_count": 2,
   "metadata": {},
   "outputs": [],
   "source": [
    "trait NType(\n",
    "    CollectionElement,\n",
    "    ComparableCollectionElement,\n",
    "    RepresentableCollectionElement,\n",
    "    Writable,\n",
    "):\n",
    "    pass\n",
    "\n",
    "\n",
    "@value\n",
    "struct Node[T: NType]:\n",
    "    var value: Optional[T]\n",
    "    var next: ArcPointer[Optional[Self]]\n",
    "    var prev: ArcPointer[Optional[Self]]\n",
    "\n",
    "    fn __init__(out self):\n",
    "        self.value = Optional[T]()\n",
    "        self.next = ArcPointer(Optional[Self]())\n",
    "        self.prev = ArcPointer(Optional[Self]())\n",
    "\n",
    "    fn __init__(out self, value: T):\n",
    "        self = Self()\n",
    "        self.value = Optional(value)\n",
    "\n",
    "    fn __init__(out self, value: T, next_node: Self, prev_node: Self):\n",
    "        self = Self()\n",
    "        self.value = Optional(value)\n",
    "        self.append(next_node)\n",
    "        self.prepend(prev_node)\n",
    "\n",
    "    fn __getitem__(self) -> T:\n",
    "        return self.value.value()\n",
    "\n",
    "    fn get_next(self) -> Self:\n",
    "        return self.next[].value()\n",
    "\n",
    "    fn get_prev(self) -> Self:\n",
    "        return self.prev[].value()\n",
    "\n",
    "    fn next_value(self) -> T:\n",
    "        if self.next[]:\n",
    "            return self.next[].value()[]\n",
    "        else:\n",
    "            return Optional[T](\"Null\").value()\n",
    "\n",
    "    fn prev_value(self) -> T:\n",
    "        if self.prev[]:\n",
    "            return self.prev[].value()[]\n",
    "        else:\n",
    "            return Optional[T](\"Null\").value()\n",
    "\n",
    "    fn append(mut self, next_node: Self):\n",
    "        var ptr = ArcPointer(Optional(next_node))\n",
    "        self.next = ptr\n",
    "\n",
    "    fn prepend(mut self, prev_node: Self):\n",
    "        var ptr = ArcPointer(Optional(prev_node))\n",
    "        self.prev = ptr\n"
   ]
  },
  {
   "cell_type": "code",
   "execution_count": 15,
   "metadata": {},
   "outputs": [],
   "source": [
    "@value\n",
    "struct LinkedList[T: NType]:\n",
    "    alias NodePointer = ArcPointer[Optional[Node[T]]]\n",
    "    var head: Self.NodePointer\n",
    "    var tail: Self.NodePointer\n",
    "    var size: Int32\n",
    "\n",
    "    fn __init__(out self):\n",
    "        self.head = ArcPointer(Optional[Node[T]]())\n",
    "        self.tail = ArcPointer(Optional[Node[T]]())\n",
    "        self.size = 0\n",
    "\n",
    "    fn __init__(out self, list_values: List[T]):\n",
    "        self = Self()\n",
    "        self.insert_values(list_values)\n",
    "\n",
    "    fn prepend(mut self, value: T):\n",
    "        var node = Node(value)\n",
    "        if not self.head[]:\n",
    "            self.head = ArcPointer(Optional(node))\n",
    "        else:\n",
    "            node.append(self.head[].value())\n",
    "            self.head = ArcPointer(Optional(node))\n",
    "\n",
    "    fn append(mut self, value: T):\n",
    "        var node = Node(value)\n",
    "        if not self.head[]:\n",
    "            self.head = ArcPointer(Optional(node))\n",
    "        self.tail[].value().next = ArcPointer(Optional(node))\n",
    "        self.tail = ArcPointer(Optional(node))\n",
    "\n",
    "    fn insert_values(mut self, values: List[T]):\n",
    "        self = Self()\n",
    "        for value in values:\n",
    "            print(value[])\n",
    "            self.append(value[])\n",
    "\n",
    "    fn print_head(self):\n",
    "        if self.head[]:\n",
    "            print(self.head[].value()[])\n",
    "        else:\n",
    "            print(\"None\")\n",
    "\n",
    "    fn print_tail(self):\n",
    "        if self.tail[]:\n",
    "            print(self.tail[].value()[])\n",
    "        else:\n",
    "            print(\"None\")\n"
   ]
  },
  {
   "cell_type": "code",
   "execution_count": 16,
   "metadata": {},
   "outputs": [
    {
     "name": "stdout",
     "output_type": "stream",
     "text": [
      "a\n",
      ".value() on empty Optional\n"
     ]
    },
    {
     "name": "stderr",
     "output_type": "stream",
     "text": [
      "error: Execution was interrupted, reason: EXC_BREAKPOINT (code=1, subcode=0x1019ac72c).\n",
      "The process has been left at the point where it was interrupted, use \"thread return -x\" to return to the state before expression evaluation.\n"
     ]
    }
   ],
   "source": [
    "var list_values = List(\"a\", \"b\", \"c\", \"d\")\n",
    "var ll = LinkedList[StringLiteral](list_values)\n",
    "ll.print_head()\n",
    "ll.print_tail()\n"
   ]
  },
  {
   "cell_type": "code",
   "execution_count": null,
   "metadata": {},
   "outputs": [],
   "source": []
  }
 ],
 "metadata": {
  "kernelspec": {
   "display_name": "MAX (Conda ENV Mojo kernel)",
   "language": "mojo",
   "name": "mojo"
  },
  "language_info": {
   "codemirror_mode": {
    "name": "mojo"
   },
   "file_extension": ".mojo",
   "mimetype": "text/x-mojo",
   "name": "mojo"
  }
 },
 "nbformat": 4,
 "nbformat_minor": 2
}
