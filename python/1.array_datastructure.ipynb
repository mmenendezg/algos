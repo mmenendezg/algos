{
 "cells": [
  {
   "cell_type": "markdown",
   "metadata": {},
   "source": [
    "# Array Data Structure"
   ]
  },
  {
   "cell_type": "markdown",
   "metadata": {},
   "source": [
    "## Setup"
   ]
  },
  {
   "cell_type": "code",
   "execution_count": 1,
   "metadata": {},
   "outputs": [],
   "source": [
    "# from rich import print\n",
    "from icecream import ic"
   ]
  },
  {
   "cell_type": "code",
   "execution_count": 2,
   "metadata": {},
   "outputs": [],
   "source": [
    "ic.configureOutput(prefix=\"\")"
   ]
  },
  {
   "cell_type": "markdown",
   "metadata": {},
   "source": [
    "## 1."
   ]
  },
  {
   "cell_type": "code",
   "execution_count": 3,
   "metadata": {},
   "outputs": [],
   "source": [
    "months: list[str] = [\"January\", \"February\", \"March\", \"April\", \"May\"]\n",
    "expenses: list[int] = [2200, 2350, 2600, 2130, 2190]\n"
   ]
  },
  {
   "cell_type": "code",
   "execution_count": 4,
   "metadata": {},
   "outputs": [
    {
     "name": "stdout",
     "output_type": "stream",
     "text": [
      "The difference is $150 dollars\n"
     ]
    }
   ],
   "source": [
    "# 1. In Feb, how many dollars you spent extra compare to January?\n",
    "def get_expenses(month: str):\n",
    "    if month not in months:\n",
    "        raise ValueError(f\"Invalid month: {month}\")\n",
    "    id: int = months.index(month)\n",
    "    return expenses[id]\n",
    "\n",
    "\n",
    "diff: int = get_expenses(\"February\") - get_expenses(\"January\")\n",
    "print(f\"The difference is ${diff} dollars\")\n"
   ]
  },
  {
   "cell_type": "code",
   "execution_count": 5,
   "metadata": {},
   "outputs": [
    {
     "name": "stdout",
     "output_type": "stream",
     "text": [
      "The total expense in first quarter is $7150\n"
     ]
    }
   ],
   "source": [
    "# 2. Find out your total expense in first quarter (first three months) of the year.\n",
    "total: int = sum(expenses[:3])\n",
    "\n",
    "print(f\"The total expense in first quarter is ${total}\")"
   ]
  },
  {
   "cell_type": "code",
   "execution_count": 6,
   "metadata": {},
   "outputs": [
    {
     "name": "stdout",
     "output_type": "stream",
     "text": [
      "You didn't spend exactly $2000 in any month\n"
     ]
    }
   ],
   "source": [
    "# 3. Find out if you spent exactly 2000 dollars in any month\n",
    "expense: int = 2000\n",
    "if expense in expenses:\n",
    "    print(f\"The expenses of {months[expenses.index(expense)]} were ${expense}\")\n",
    "else:\n",
    "    print(\"You didn't spend exactly $2000 in any month\")"
   ]
  },
  {
   "cell_type": "code",
   "execution_count": 7,
   "metadata": {},
   "outputs": [],
   "source": [
    "# 4. June month just finished and your expense is 1980 dollar. Add this item to our monthly expense list\n",
    "expenses.append(1980)\n",
    "months.append(\"June\")"
   ]
  },
  {
   "cell_type": "code",
   "execution_count": 8,
   "metadata": {},
   "outputs": [
    {
     "name": "stdout",
     "output_type": "stream",
     "text": [
      "Previous expenses in April: $2130\n",
      "Adjusted expenses in April: $1930\n"
     ]
    }
   ],
   "source": [
    "# 5. You returned an item that you bought in a month of April and got a refund\n",
    "# of 200$. Make a correction to your monthly expense list based on this\n",
    "print(f\"Previous expenses in April: ${expenses[3]}\")\n",
    "expenses[3] -= 200\n",
    "print(f\"Adjusted expenses in April: ${expenses[3]}\")"
   ]
  },
  {
   "cell_type": "markdown",
   "metadata": {},
   "source": [
    "## 2."
   ]
  },
  {
   "cell_type": "code",
   "execution_count": 9,
   "metadata": {},
   "outputs": [],
   "source": [
    "heroes = [\"spider man\", \"thor\", \"hulk\", \"iron man\", \"captain america\"]\n"
   ]
  },
  {
   "cell_type": "code",
   "execution_count": 10,
   "metadata": {},
   "outputs": [
    {
     "name": "stdout",
     "output_type": "stream",
     "text": [
      "The length of the list is 5\n"
     ]
    }
   ],
   "source": [
    "# 1. Length of the list\n",
    "print(f\"The length of the list is {len(heroes)}\")"
   ]
  },
  {
   "cell_type": "code",
   "execution_count": 11,
   "metadata": {},
   "outputs": [
    {
     "name": "stderr",
     "output_type": "stream",
     "text": [
      "heroes: ['spider man', 'thor', 'hulk', 'iron man', 'captain america', 'black panther']\n"
     ]
    }
   ],
   "source": [
    "# 2. Add 'black panther' at the end of this list\n",
    "heroes.append(\"black panther\")\n",
    "_ = ic(heroes)"
   ]
  },
  {
   "cell_type": "code",
   "execution_count": 12,
   "metadata": {},
   "outputs": [
    {
     "name": "stderr",
     "output_type": "stream",
     "text": [
      "heroes: ['spider man', 'thor', 'hulk', 'iron man', 'captain america']\n",
      "heroes: ['spider man', 'thor', 'hulk', 'black panther', 'iron man', 'captain america']\n"
     ]
    }
   ],
   "source": [
    "# 3. You realize that you need to add 'black panther' after 'hulk',\n",
    "# so remove it from the list first and then add it after 'hulk'\n",
    "heroes.remove(\"black panther\")\n",
    "ic(heroes)\n",
    "\n",
    "heroes.insert(heroes.index(\"hulk\") + 1, \"black panther\")\n",
    "ic(heroes)\n",
    "pass"
   ]
  },
  {
   "cell_type": "code",
   "execution_count": 13,
   "metadata": {},
   "outputs": [
    {
     "name": "stderr",
     "output_type": "stream",
     "text": [
      "heroes: ['spider man', 'doctor Strange', 'black panther', 'iron man', 'captain america']\n"
     ]
    }
   ],
   "source": [
    "heroes[1:3] = [\"doctor Strange\"]\n",
    "ic(heroes)\n",
    "pass"
   ]
  },
  {
   "cell_type": "code",
   "execution_count": 14,
   "metadata": {},
   "outputs": [
    {
     "name": "stderr",
     "output_type": "stream",
     "text": [
      "heroes: ['black panther', 'captain america', 'doctor Strange', 'iron man', 'spider man']\n"
     ]
    }
   ],
   "source": [
    "# 5. Sort the heros list in alphabetical order (Hint. Use dir() functions to list down all functions available in list)\n",
    "heroes.sort()\n",
    "ic(heroes)\n",
    "pass"
   ]
  },
  {
   "cell_type": "markdown",
   "metadata": {},
   "source": [
    "## 3."
   ]
  },
  {
   "cell_type": "code",
   "execution_count": 18,
   "metadata": {},
   "outputs": [],
   "source": [
    "def create_odds_list(max_val):\n",
    "    list_odds = []\n",
    "    for i in range(1, max_val + 1, 2):\n",
    "        list_odds.append(i)\n",
    "    return list_odds"
   ]
  },
  {
   "cell_type": "code",
   "execution_count": 17,
   "metadata": {},
   "outputs": [
    {
     "name": "stdout",
     "output_type": "stream",
     "text": [
      "[1, 3, 5, 7, 9, 11, 13, 15, 17, 19, 21, 23, 25, 27, 29, 31, 33, 35, 37, 39, 41, 43, 45, 47, 49, 51, 53, 55, 57]\n"
     ]
    }
   ],
   "source": [
    "max_val = 58\n",
    "list_odds = create_odds_list(max_val)\n",
    "print(list_odds)\n"
   ]
  }
 ],
 "metadata": {
  "kernelspec": {
   "display_name": "default",
   "language": "python",
   "name": "python3"
  },
  "language_info": {
   "codemirror_mode": {
    "name": "ipython",
    "version": 3
   },
   "file_extension": ".py",
   "mimetype": "text/x-python",
   "name": "python",
   "nbconvert_exporter": "python",
   "pygments_lexer": "ipython3",
   "version": "3.12.7"
  }
 },
 "nbformat": 4,
 "nbformat_minor": 2
}
