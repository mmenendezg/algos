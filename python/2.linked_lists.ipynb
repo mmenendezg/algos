{
 "cells": [
  {
   "cell_type": "markdown",
   "metadata": {},
   "source": [
    "# Linked Lists"
   ]
  },
  {
   "cell_type": "markdown",
   "metadata": {},
   "source": [
    "## Linked List"
   ]
  },
  {
   "cell_type": "code",
   "execution_count": 1,
   "metadata": {},
   "outputs": [],
   "source": [
    "class Node:\n",
    "    def __init__(self, data=None, next=None):\n",
    "        self.data = data\n",
    "        self.next = next"
   ]
  },
  {
   "cell_type": "code",
   "execution_count": 2,
   "metadata": {},
   "outputs": [],
   "source": [
    "class LinkedList:\n",
    "    def __init__(self):\n",
    "        self.head = None\n",
    "\n",
    "    def insert_at_head(self, data):\n",
    "        node = Node(data, self.head)\n",
    "        self.head = node\n",
    "\n",
    "    def insert_at_tail(self, data):\n",
    "        if self.head is None:\n",
    "            self.head = Node(data, None)\n",
    "            return\n",
    "        itr = self.head\n",
    "        while itr.next:\n",
    "            itr = itr.next\n",
    "        itr.next = Node(data, None)\n",
    "\n",
    "    def insert_values(self, data_list):\n",
    "        self.head = None\n",
    "        for data in data_list:\n",
    "            self.insert_at_tail(data)\n",
    "\n",
    "    def remove(self, index):\n",
    "        assert index >= 0, \"Not a valid index\"\n",
    "        assert index < len(self), \"Not a valid index\"\n",
    "\n",
    "        if index == 0:\n",
    "            self.head = self.head.next\n",
    "            return\n",
    "\n",
    "        count = 0\n",
    "        itr = self.head\n",
    "        while itr:\n",
    "            if count == index - 1:\n",
    "                itr.next = itr.next.next\n",
    "                return\n",
    "            itr = itr.next\n",
    "            count += 1\n",
    "\n",
    "    def insert(self, index, data):\n",
    "        assert index >= 0, \"Not a valid index\"\n",
    "        assert index <= len(self), \"Not a valid index\"\n",
    "\n",
    "        if index == 0:\n",
    "            self.insert_at_head(data)\n",
    "            return\n",
    "        count = 0\n",
    "        itr = self.head\n",
    "        while itr:\n",
    "            if count == index - 1:\n",
    "                node = Node(data, itr.next)\n",
    "                itr.next = node\n",
    "                break\n",
    "            itr = itr.next\n",
    "            count += 1\n",
    "\n",
    "    def __str__(self):\n",
    "        if self.head is None:\n",
    "            print(\"[ Empty LinkedList ]\")\n",
    "            return\n",
    "        current = self.head\n",
    "        llstr = \"[ \"\n",
    "        while current:\n",
    "            llstr += str(current.data) + \" -> \"\n",
    "            current = current.next\n",
    "        llstr += \" ]\"\n",
    "        return llstr\n",
    "\n",
    "    def __len__(self):\n",
    "        count = 0\n",
    "        itr = self.head\n",
    "        while itr:\n",
    "            count += 1\n",
    "            itr = itr.next\n",
    "        return count\n"
   ]
  },
  {
   "cell_type": "code",
   "execution_count": 3,
   "metadata": {},
   "outputs": [
    {
     "name": "stdout",
     "output_type": "stream",
     "text": [
      "[ banana -> apple -> orange -> grape ->  ]\n",
      "4\n",
      "[ lemon -> kiwi -> banana -> apple -> orange -> pear -> grape ->  ]\n",
      "[ kiwi -> apple -> orange -> pear -> grape ->  ]\n"
     ]
    }
   ],
   "source": [
    "if __name__ == \"__main__\":\n",
    "    ll = LinkedList()\n",
    "    ll.insert_values([\"banana\", \"apple\", \"orange\", \"grape\"])\n",
    "    print(ll)\n",
    "    print(len(ll))\n",
    "    ll.insert(3, \"pear\")\n",
    "    ll.insert(0, \"lemon\")\n",
    "    ll.insert(1, \"kiwi\")\n",
    "    print(ll)\n",
    "    ll.remove(2)\n",
    "    ll.remove(0)\n",
    "    print(ll)"
   ]
  },
  {
   "cell_type": "code",
   "execution_count": null,
   "metadata": {},
   "outputs": [],
   "source": []
  }
 ],
 "metadata": {
  "kernelspec": {
   "display_name": "default",
   "language": "python",
   "name": "python3"
  },
  "language_info": {
   "codemirror_mode": {
    "name": "ipython",
    "version": 3
   },
   "file_extension": ".py",
   "mimetype": "text/x-python",
   "name": "python",
   "nbconvert_exporter": "python",
   "pygments_lexer": "ipython3",
   "version": "3.12.8"
  }
 },
 "nbformat": 4,
 "nbformat_minor": 2
}
