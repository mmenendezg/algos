{
 "cells": [
  {
   "cell_type": "markdown",
   "metadata": {},
   "source": [
    "# Linked Lists"
   ]
  },
  {
   "cell_type": "markdown",
   "metadata": {},
   "source": [
    "## Linked List"
   ]
  },
  {
   "cell_type": "code",
   "execution_count": 1,
   "metadata": {},
   "outputs": [],
   "source": [
    "from linked_lists import Node"
   ]
  },
  {
   "cell_type": "code",
   "execution_count": 25,
   "metadata": {},
   "outputs": [],
   "source": [
    "class LinkedList:\n",
    "    def __init__(self, list_values=None):\n",
    "        self.size = 0\n",
    "        self.head = None\n",
    "        self.tail = None\n",
    "\n",
    "        if list_values:\n",
    "            self.insert_values(list_values)\n",
    "\n",
    "\n",
    "\n",
    "    def prepend(self, value):\n",
    "        node = Node(value)\n",
    "        if self.head is None:\n",
    "            self.head = node\n",
    "            self.tail = self.head\n",
    "        else:\n",
    "            node.append(self.head)\n",
    "            if self.tail is None:\n",
    "                self.tail = self.head\n",
    "            self.head = node\n",
    "        self.size += 1\n",
    "\n",
    "    def append(self, value):\n",
    "        node = Node(value)\n",
    "        if self.head is None:\n",
    "            self.head = node\n",
    "            self.tail = self.head\n",
    "        elif self.tail is None:\n",
    "            self.tail = node\n",
    "            self.tail.prepend(self.head)\n",
    "        else:\n",
    "            node.prepend(self.tail)\n",
    "            self.tail = node\n",
    "        self.size += 1\n",
    "\n",
    "    def insert_values(self, data_list):\n",
    "        for data in data_list:\n",
    "            self.append(data)\n",
    "\n",
    "    def insert_after_value(self, key_value, value):\n",
    "        if self.head is None:\n",
    "            raise IndexError(\"List is empty\")\n",
    "        node = self.head\n",
    "\n",
    "    def insert(self, index, value):\n",
    "        assert index >= 0, \"Not a valid index\"\n",
    "        assert index <= len(self), \"Not a valid index\"\n",
    "\n",
    "        if index == 0:\n",
    "            self.prepend(value)\n",
    "            return\n",
    "        count = 0\n",
    "        itr = self.head\n",
    "        while itr:\n",
    "            if count == index - 1:\n",
    "                node = Node(value, itr.next)\n",
    "                itr.next = node\n",
    "                break\n",
    "            itr = itr.next\n",
    "            count += 1\n",
    "\n",
    "    def remove(self, index):\n",
    "        assert index >= 0, \"Not a valid index\"\n",
    "        assert index < len(self), \"Not a valid index\"\n",
    "\n",
    "        if index == 0:\n",
    "            self.head = self.head.next\n",
    "            return\n",
    "\n",
    "        count = 0\n",
    "        itr = self.head\n",
    "        while itr:\n",
    "            if count == index - 1:\n",
    "                itr.next = itr.next.next\n",
    "                return\n",
    "            itr = itr.next\n",
    "            count += 1\n",
    "\n",
    "    def __str__(self):\n",
    "        if self.head is None:\n",
    "            return \"[ Null ]\"\n",
    "        node = self.head\n",
    "        llstr = \"[ \"\n",
    "        for _ in range(self.size):\n",
    "            llstr += str(node.data)\n",
    "            if node.next:\n",
    "                llstr += \" >> \"\n",
    "            node = node.next\n",
    "        llstr += \" ]\"\n",
    "        return llstr\n",
    "\n",
    "    def __len__(self):\n",
    "        count = 0\n",
    "        itr = self.head\n",
    "        while itr:\n",
    "            count += 1\n",
    "            itr = itr.next\n",
    "        return count\n"
   ]
  },
  {
   "cell_type": "code",
   "execution_count": 27,
   "metadata": {},
   "outputs": [
    {
     "name": "stdout",
     "output_type": "stream",
     "text": [
      "[ Null ]\n",
      "[ 1 ]\n",
      "[ 2 >> 1 ]\n",
      "1\n",
      "[ 2 >> 1 >> 3 ]\n",
      "3\n",
      "[ 2 >> 1 >> 3 >> 4 >> 5 >> 6 ]\n",
      "6\n"
     ]
    }
   ],
   "source": [
    "ll = LinkedList()\n",
    "print(ll)\n",
    "ll.prepend(1)\n",
    "print(ll)\n",
    "ll.prepend(2)\n",
    "print(ll)\n",
    "print(ll.tail)\n",
    "ll.append(3)\n",
    "print(ll)\n",
    "print(ll.tail)\n",
    "ll.insert_values([4, 5, 6])\n",
    "print(ll)\n",
    "print(ll.tail)"
   ]
  },
  {
   "cell_type": "code",
   "execution_count": null,
   "metadata": {},
   "outputs": [],
   "source": [
    "if __name__ == \"__main__\":\n",
    "    ll = LinkedList()\n",
    "    ll.insert_values([\"banana\", \"apple\", \"orange\", \"grape\"])\n",
    "    print(ll)\n",
    "    print(len(ll))\n",
    "    ll.insert(3, \"pear\")\n",
    "    ll.insert(0, \"lemon\")\n",
    "    ll.insert(1, \"kiwi\")\n",
    "    print(ll)\n",
    "    ll.remove(2)\n",
    "    ll.remove(0)\n",
    "    print(ll)"
   ]
  },
  {
   "cell_type": "code",
   "execution_count": null,
   "metadata": {},
   "outputs": [],
   "source": []
  }
 ],
 "metadata": {
  "kernelspec": {
   "display_name": "default",
   "language": "python",
   "name": "python3"
  },
  "language_info": {
   "codemirror_mode": {
    "name": "ipython",
    "version": 3
   },
   "file_extension": ".py",
   "mimetype": "text/x-python",
   "name": "python",
   "nbconvert_exporter": "python",
   "pygments_lexer": "ipython3",
   "version": "3.12.8"
  }
 },
 "nbformat": 4,
 "nbformat_minor": 2
}
